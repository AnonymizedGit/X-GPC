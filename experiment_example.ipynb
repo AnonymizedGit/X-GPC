{
 "cells": [
  {
   "cell_type": "code",
   "execution_count": null,
   "metadata": {},
   "outputs": [],
   "source": [
    "#Install all needed packages\n",
    "using Pkg;\n",
    "Pkglist = Pkg.installed()\n",
    "if !haskey(Pkglist,\"HTTP\");println(\"Installing package HTTP\");Pkg.add(\"HTTP\");end;\n",
    "if !haskey(Pkglist,\"DelimitedFiles\");println(\"Installing package DelimitedFiles\");Pkg.add(\"DelimitedFiles\");end;\n",
    "if !haskey(Pkglist,\"StatsBase\");println(\"Installing package StatsBase\");Pkg.add(\"StatsBase\");end;\n",
    "if !haskey(Pkglist,\"Statistics\");println(\"Installing package Statistics\");Pkg.add(\"Statistics\");end;\n",
    "if !haskey(Pkglist,\"MLDataUtils\");println(\"Installing package MLDataUtils\");Pkg.add(\"MLDataUtils\");end;\n",
    "if !haskey(Pkglist,\"OMGP\");println(\"Installing package OMGP\"); Pkg.add(pwd()*\"/OMGP\"); end;\n",
    "println(\"All needed packages installed\")"
   ]
  },
  {
   "cell_type": "code",
   "execution_count": null,
   "metadata": {},
   "outputs": [],
   "source": [
    "#Include needed packages\n",
    "using HTTP, DelimitedFiles, StatsBase, Statistics, MLDataUtils, Random\n",
    "links = Dict(\"Electricity\"=>\"https://www.openml.org/data/get_csv/2419/electricity-normalized.arff\",\n",
    "                \"Shuttle\"=>\"https://www.openml.org/data/get_csv/4965262/shuttle.arff\")\n",
    "dataset=\"Shuttle\"; #Choose between the list above \n",
    "data,header = readdlm(HTTP.get(links[dataset]).body,',',header=true);\n",
    "data"
   ]
  },
  {
   "cell_type": "code",
   "execution_count": null,
   "metadata": {},
   "outputs": [],
   "source": [
    "#Format the data\n",
    "if dataset == \"Electricity\"\n",
    "    global y_1 = data[1,end]; data[:,end] = data[:,end].== y_1\n",
    "elseif dataset == \"Shuttle\"\n",
    "    global y_1 = data[3,end]; \n",
    "end\n",
    "\n",
    "#Convert it into -1,1\n",
    "data[:,end]=(sign.(data[:,end]*2 .-1)); data = Matrix{Float64}(data); \n",
    "nSamples,nDims = size(data);nDims-=1\n",
    "#Normalize the data\n",
    "for i in 1:nDims\n",
    "    data[:,i] = zscore(data[:,i])\n",
    "end"
   ]
  },
  {
   "cell_type": "code",
   "execution_count": null,
   "metadata": {},
   "outputs": [],
   "source": [
    "#Shuffle the data and split it into train/test\n",
    "data = data[shuffle(1:nSamples),:];\n",
    "train, test = Matrix.(splitobs(data, at = 0.7,obsdim=1));\n",
    "X_train = train[:,1:end-1]; y_train = train[:,end];\n",
    "X_test = test[:,1:end-1]; y_test = test[:,end];"
   ]
  },
  {
   "cell_type": "code",
   "execution_count": null,
   "metadata": {},
   "outputs": [],
   "source": [
    "using OMGP\n",
    "#Creating the model and initializing the variables\n",
    "model = SparseXGPC(X_train,y_train;m=100,Stochastic=true,batchsize=100,\n",
    "                    kernel=RBFKernel(3.0),Autotuning=true,noise=1e-3,VerboseLevel=2);"
   ]
  },
  {
   "cell_type": "code",
   "execution_count": null,
   "metadata": {},
   "outputs": [],
   "source": [
    "#You can chose to run with a callback function which will measure metrics during the training, it is much slower thouhg\n",
    "metrics,callback = getLog(model,X_test=X_test,y_test=y_test,iter_points=vcat(1:9,10:10:99,100:100:999,1000:1000:9999))\n",
    "model.train(iterations=100,callback=callback)\n",
    "#Or do a normal training (faster)\n",
    "# model.train(iterations=100)\n"
   ]
  },
  {
   "cell_type": "code",
   "execution_count": null,
   "metadata": {},
   "outputs": [],
   "source": [
    "y_pred = model.predict(X_test);\n",
    "println(\"Accuracy is $(mean(y_pred.==y_test))\")"
   ]
  },
  {
   "cell_type": "code",
   "execution_count": null,
   "metadata": {},
   "outputs": [],
   "source": [
    "if @isdefined metrics\n",
    "    if !haskey(Pkglist,\"Plots\");println(\"Installing package Plots\"); Pkg.add(\"Plots\"); end;\n",
    "    using Plots\n",
    "    plot(plot(metrics[:ELBO],lab=\"ELBO\",title=\"\",xlabel=\"Iterations\"),\n",
    "        plot(metrics[:test_error],lab=\"Test Error\",title=\"\",xlabel=\"Iterations\"),\n",
    "        plot(metrics[:mean_neg_loglikelihood],lab=\"Mean Neg. Log LL\",title=\"\",xlabel=\"Iterations\"),\n",
    "        plot(metrics[:kernel_param],lab=\"kernel parameter\",title=\"\",xlabel=\"Iterations\"))\n",
    "end"
   ]
  }
 ],
 "metadata": {
  "kernelspec": {
   "display_name": "Julia 0.7.0",
   "language": "julia",
   "name": "julia-0.7"
  },
  "language_info": {
   "file_extension": ".jl",
   "mimetype": "application/julia",
   "name": "julia",
   "version": "0.7.0"
  }
 },
 "nbformat": 4,
 "nbformat_minor": 2
}
